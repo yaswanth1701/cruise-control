{
 "cells": [
  {
   "cell_type": "code",
   "execution_count": 2,
   "id": "a4acd143",
   "metadata": {},
   "outputs": [
    {
     "name": "stdout",
     "output_type": "stream",
     "text": [
      "14.8924\n",
      "25.892659463999998\n",
      "34.217416695859036\n",
      "40.516186506871534\n",
      "45.28191735639627\n",
      "48.88761355178961\n",
      "51.61552600977091\n",
      "53.67923282583374\n",
      "55.2403476092045\n",
      "56.42116262291393\n",
      "57.31421580492107\n",
      "57.98953010046307\n",
      "58.50009144020632\n",
      "58.88599390765092\n",
      "59.17757637316543\n",
      "59.39779597424288\n",
      "59.56402411988258\n",
      "59.68940552093791\n",
      "59.78388656369635\n",
      "59.85499347660632\n",
      "59.908421166328246\n",
      "59.94847878790703\n",
      "59.978426906141344\n",
      "60.00073262438085\n",
      "60.01726263955561\n",
      "60.02942932619729\n",
      "60.038301277659144\n",
      "60.04468695222014\n",
      "60.04919796774734\n",
      "60.05229699649269\n",
      "60.05433400686489\n",
      "60.05557368739804\n",
      "60.05621619831965\n",
      "60.05641287413697\n",
      "60.056278105676896\n",
      "60.05589833113275\n",
      "60.0553388395072\n",
      "60.054648918703904\n",
      "60.05386575102157\n",
      "60.053017360812525\n",
      "60.05212484491851\n",
      "60.051204060387306\n",
      "60.050266901516665\n",
      "60.04932226614441\n",
      "60.04837678679318\n",
      "60.04743538388232\n",
      "60.04650168429952\n",
      "60.04557833809138\n",
      "60.04466725806187\n",
      "60.04376980103621\n",
      "60.042886904984016\n",
      "60.042019192742025\n",
      "60.04116705046371\n",
      "60.04033068694551\n",
      "60.03951017848316\n",
      "60.03870550277957\n",
      "60.037916564568576\n",
      "60.03714321497098\n",
      "60.0363852661084\n",
      "60.03564250212944\n"
     ]
    },
    {
     "data": {
      "image/png": "[encoded data removed]",
      "text/plain": [
       "<Figure size 432x288 with 1 Axes>"
      ]
     },
     "metadata": {
      "needs_background": "light"
     },
     "output_type": "display_data"
    }
   ],
   "source": [
    "import math\n",
    "import matplotlib.pyplot as plt\n",
    "m=500\n",
    "c=10\n",
    "r=60\n",
    "v=0\n",
    "sample_time=1\n",
    "k_p=120.07\n",
    "k_i=2.5\n",
    "k_d=2\n",
    "e_i=0\n",
    "e_old=14\n",
    "velocity=[0]\n",
    "time=[i for i in range(61)]\n",
    "\n",
    "\n",
    "\n",
    "\n",
    "for i in range(60):\n",
    "    \n",
    "    t=i\n",
    "    e=r-v\n",
    "    e_i+=e\n",
    "    e_d=e-e_old\n",
    "    u=k_p*e+k_i*e_i+k_d*e_d\n",
    "    v_new=(u-c*v)/m+v\n",
    "    e_old=e \n",
    "    velocity.append(v_new)\n",
    "    v=v_new\n",
    "    print(v_new)\n",
    "    \n",
    "    \n",
    "    \n",
    "x1=[0,70]\n",
    "y1=[60,60]\n",
    "plt.plot(time,velocity)\n",
    "plt.annotate(\"........\",(10,54))\n",
    "plt.annotate(\"..............\",(0,54))\n",
    "plt.plot(x1,y1,label=\"reference line velocity is 60 km/hr\")\n",
    "plt.legend()\n",
    "plt.show()\n",
    "\n",
    "    "
   ]
  },
  {
   "cell_type": "code",
   "execution_count": null,
   "id": "ead6334c",
   "metadata": {},
   "outputs": [],
   "source": []
  }
 ],
 "metadata": {
  "kernelspec": {
   "display_name": "Python 3",
   "language": "python",
   "name": "python3"
  },
  "language_info": {
   "codemirror_mode": {
    "name": "ipython",
    "version": 3
   },
   "file_extension": ".py",
   "mimetype": "text/x-python",
   "name": "python",
   "nbconvert_exporter": "python",
   "pygments_lexer": "ipython3",
   "version": "3.8.8"
  }
 },
 "nbformat": 4,
 "nbformat_minor": 5
}
