{
 "cells": [
  {
   "cell_type": "code",
   "execution_count": 2,
   "id": "8c5c07e9",
   "metadata": {},
   "outputs": [
    {
     "data": {
      "image/png": "[encoded data removed]",
      "text/plain": [
       "<Figure size 432x288 with 1 Axes>"
      ]
     },
     "metadata": {
      "needs_background": "light"
     },
     "output_type": "display_data"
    }
   ],
   "source": [
    "import math\n",
    "import matplotlib.pyplot as plt\n",
    "m=500\n",
    "c=10\n",
    "r=60\n",
    "v=0\n",
    "sample_time=1\n",
    "k_p=120.07\n",
    "k_i=2.5\n",
    "k_d=2\n",
    "e_i=0\n",
    "e_old=14\n",
    "velocity=[0]\n",
    "time=[i for i in range(61)]\n",
    "\n",
    "\n",
    "\n",
    "\n",
    "for i in range(60):\n",
    "    #if(i<30):\n",
    "       # r=60\n",
    "    #elif(i>=30):\n",
    "       # r=100\n",
    "    t=i\n",
    "    e=r-v\n",
    "    e_i+=e\n",
    "    e_d=e-e_old\n",
    "    u=k_p*e+k_i*e_i+k_d*e_d\n",
    "    v_new=(u-c*v)/m+v\n",
    "    e_old=e \n",
    "    velocity.append(v_new)\n",
    "    v=v_new\n",
    "    \n",
    "    \n",
    "    \n",
    "x1=[0,70]\n",
    "y1=[60,60]\n",
    "#x2=[0,70]\n",
    "#y2=[100,100]\n",
    "plt.plot(time,velocity)\n",
    "plt.annotate(\"........\",(10,54))\n",
    "plt.annotate(\"..............\",(0,54))\n",
    "plt.xlabel('time')\n",
    "plt.ylabel('velocity')\n",
    "plt.plot(x1,y1,label=\"reference velocity 60 km/hr\")\n",
    "#plt.plot(x2,y2,label=\"reference velocity 100 km/hr\")\n",
    "plt.legend()\n",
    "plt.show()"
   ]
  },
  {
   "cell_type": "code",
   "execution_count": null,
   "id": "d1a0790c",
   "metadata": {},
   "outputs": [],
   "source": []
  }
 ],
 "metadata": {
  "kernelspec": {
   "display_name": "Python 3",
   "language": "python",
   "name": "python3"
  },
  "language_info": {
   "codemirror_mode": {
    "name": "ipython",
    "version": 3
   },
   "file_extension": ".py",
   "mimetype": "text/x-python",
   "name": "python",
   "nbconvert_exporter": "python",
   "pygments_lexer": "ipython3",
   "version": "3.8.8"
  }
 },
 "nbformat": 4,
 "nbformat_minor": 5
}
